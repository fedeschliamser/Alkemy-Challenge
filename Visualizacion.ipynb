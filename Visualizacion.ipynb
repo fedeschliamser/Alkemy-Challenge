{
 "cells": [
  {
   "cell_type": "code",
   "execution_count": 9,
   "metadata": {},
   "outputs": [],
   "source": [
    "import pandas as pd\n",
    "import numpy as np\n",
    "import import_ipynb\n",
    "import matplotlib.pyplot as plt\n",
    "from datetime import datetime"
   ]
  },
  {
   "cell_type": "code",
   "execution_count": 2,
   "metadata": {},
   "outputs": [
    {
     "data": {
      "text/plain": [
       "'13:02:22'"
      ]
     },
     "execution_count": 2,
     "metadata": {},
     "output_type": "execute_result"
    }
   ],
   "source": [
    "day = datetime.today().strftime('%d')\n",
    "year = datetime.today().strftime('%Y')\n",
    "month = datetime.today().strftime('%B')\n",
    "date = datetime.now().strftime(\"%d:%m:%y\")\n",
    "date"
   ]
  },
  {
   "cell_type": "code",
   "execution_count": 3,
   "metadata": {},
   "outputs": [],
   "source": [
    "import re"
   ]
  },
  {
   "cell_type": "code",
   "execution_count": 4,
   "metadata": {},
   "outputs": [
    {
     "name": "stdout",
     "output_type": "stream",
     "text": [
      "importing Jupyter notebook from Untitled9.ipynb\n"
     ]
    }
   ],
   "source": [
    "from Untitled9 import museos_func"
   ]
  },
  {
   "cell_type": "code",
   "execution_count": 5,
   "metadata": {},
   "outputs": [],
   "source": [
    "ruta_museos=r'./museos/2022-February/ museos-12-February-2022.csv'\n",
    "ruta_biblio=r\"./bibliotecas/2022-February/ bibliotecas-12-February-2022.csv\"\n",
    "ruta_cines=r'./cines/2022-February/ cines-12-February-2022.csv'"
   ]
  },
  {
   "cell_type": "code",
   "execution_count": 6,
   "metadata": {},
   "outputs": [],
   "source": [
    "data_museos, data_biblio, data_cines=museos_func(ruta_museos, ruta_biblio, ruta_cines)"
   ]
  },
  {
   "cell_type": "code",
   "execution_count": 43,
   "metadata": {},
   "outputs": [
    {
     "data": {
      "text/plain": [
       "'Analizamos la Base de Museos:'"
      ]
     },
     "execution_count": 43,
     "metadata": {},
     "output_type": "execute_result"
    }
   ],
   "source": [
    "\"\"\"Analizamos la Base de Museos:\"\"\""
   ]
  },
  {
   "cell_type": "code",
   "execution_count": 10,
   "metadata": {},
   "outputs": [
    {
     "data": {
      "text/html": [
       "<div>\n",
       "<style scoped>\n",
       "    .dataframe tbody tr th:only-of-type {\n",
       "        vertical-align: middle;\n",
       "    }\n",
       "\n",
       "    .dataframe tbody tr th {\n",
       "        vertical-align: top;\n",
       "    }\n",
       "\n",
       "    .dataframe thead th {\n",
       "        text-align: right;\n",
       "    }\n",
       "</style>\n",
       "<table border=\"1\" class=\"dataframe\">\n",
       "  <thead>\n",
       "    <tr style=\"text-align: right;\">\n",
       "      <th></th>\n",
       "      <th>cod_localidad</th>\n",
       "      <th>id_provincia</th>\n",
       "      <th>id_departamento</th>\n",
       "      <th>observaciones</th>\n",
       "      <th>categoría</th>\n",
       "      <th>subcategoria</th>\n",
       "      <th>provincia</th>\n",
       "      <th>localidad</th>\n",
       "      <th>nombre</th>\n",
       "      <th>domicilio</th>\n",
       "      <th>...</th>\n",
       "      <th>mail</th>\n",
       "      <th>web</th>\n",
       "      <th>latitud</th>\n",
       "      <th>longitud</th>\n",
       "      <th>tipolatitudlongitud</th>\n",
       "      <th>info_adicional</th>\n",
       "      <th>fuente</th>\n",
       "      <th>jurisdiccion</th>\n",
       "      <th>año_inauguracion</th>\n",
       "      <th>id_sinca</th>\n",
       "    </tr>\n",
       "  </thead>\n",
       "  <tbody>\n",
       "    <tr>\n",
       "      <th>0</th>\n",
       "      <td>6588100</td>\n",
       "      <td>6</td>\n",
       "      <td>6588</td>\n",
       "      <td>NaN</td>\n",
       "      <td>Espacios de Exhibición Patrimonial</td>\n",
       "      <td>Museos</td>\n",
       "      <td>Buenos Aires</td>\n",
       "      <td>9 de Julio</td>\n",
       "      <td>Archivo Y Museo Histórico Gral. Julio De Vedia</td>\n",
       "      <td>Libertad 1191</td>\n",
       "      <td>...</td>\n",
       "      <td>archivoymuseo@yahoo.com.ar</td>\n",
       "      <td>www.portaldel9.com.ar</td>\n",
       "      <td>-35.441762</td>\n",
       "      <td>-60.887598</td>\n",
       "      <td>Localización precisa</td>\n",
       "      <td>NaN</td>\n",
       "      <td>DNPyM</td>\n",
       "      <td>Municipal</td>\n",
       "      <td>1920.0</td>\n",
       "      <td>300003</td>\n",
       "    </tr>\n",
       "    <tr>\n",
       "      <th>1</th>\n",
       "      <td>6077010</td>\n",
       "      <td>6</td>\n",
       "      <td>6077</td>\n",
       "      <td>NaN</td>\n",
       "      <td>Espacios de Exhibición Patrimonial</td>\n",
       "      <td>Museos</td>\n",
       "      <td>Buenos Aires</td>\n",
       "      <td>Arrecifes</td>\n",
       "      <td>Museo Y Archivo Histórico De Arrecifes</td>\n",
       "      <td>Gerardo Risso y España</td>\n",
       "      <td>...</td>\n",
       "      <td>museoarrecifes@hotmail.com</td>\n",
       "      <td>NaN</td>\n",
       "      <td>-34.066970</td>\n",
       "      <td>-60.102555</td>\n",
       "      <td>Localización precisa</td>\n",
       "      <td>NaN</td>\n",
       "      <td>DNPyM</td>\n",
       "      <td>Municipal</td>\n",
       "      <td>1972.0</td>\n",
       "      <td>300037</td>\n",
       "    </tr>\n",
       "    <tr>\n",
       "      <th>2</th>\n",
       "      <td>6035010</td>\n",
       "      <td>6</td>\n",
       "      <td>6035</td>\n",
       "      <td>NaN</td>\n",
       "      <td>Espacios de Exhibición Patrimonial</td>\n",
       "      <td>Museos</td>\n",
       "      <td>Buenos Aires</td>\n",
       "      <td>Avellaneda</td>\n",
       "      <td>Museo Histórico-Sacro  Hno. Rogelio Scortegagna</td>\n",
       "      <td>Calle 11 (Av. San Martín) Nº 830</td>\n",
       "      <td>...</td>\n",
       "      <td>NaN</td>\n",
       "      <td>NaN</td>\n",
       "      <td>-29.118024</td>\n",
       "      <td>-59.654543</td>\n",
       "      <td>Localización precisa</td>\n",
       "      <td>NaN</td>\n",
       "      <td>DNPyM</td>\n",
       "      <td>Municipal</td>\n",
       "      <td>NaN</td>\n",
       "      <td>300041</td>\n",
       "    </tr>\n",
       "    <tr>\n",
       "      <th>3</th>\n",
       "      <td>6035010</td>\n",
       "      <td>6</td>\n",
       "      <td>6035</td>\n",
       "      <td>NaN</td>\n",
       "      <td>Espacios de Exhibición Patrimonial</td>\n",
       "      <td>Museos</td>\n",
       "      <td>Buenos Aires</td>\n",
       "      <td>Avellaneda</td>\n",
       "      <td>Museo Municipal De Artes Plásticas De Avellaneda</td>\n",
       "      <td>Sarmiento 101, 1 º Piso</td>\n",
       "      <td>...</td>\n",
       "      <td>NaN</td>\n",
       "      <td>NaN</td>\n",
       "      <td>-34.662110</td>\n",
       "      <td>-58.363270</td>\n",
       "      <td>Localización precisa</td>\n",
       "      <td>NaN</td>\n",
       "      <td>DNPyM</td>\n",
       "      <td>Municipal</td>\n",
       "      <td>1956.0</td>\n",
       "      <td>300042</td>\n",
       "    </tr>\n",
       "    <tr>\n",
       "      <th>4</th>\n",
       "      <td>6049020</td>\n",
       "      <td>6</td>\n",
       "      <td>6049</td>\n",
       "      <td>NaN</td>\n",
       "      <td>Espacios de Exhibición Patrimonial</td>\n",
       "      <td>Museos</td>\n",
       "      <td>Buenos Aires</td>\n",
       "      <td>Azul</td>\n",
       "      <td>Museo Etnográfico Y Archivo Histórico Enrique ...</td>\n",
       "      <td>Bartolomé J. Ronco 654</td>\n",
       "      <td>...</td>\n",
       "      <td>museoazul@yahoo.com</td>\n",
       "      <td>NaN</td>\n",
       "      <td>-36.781824</td>\n",
       "      <td>-59.858636</td>\n",
       "      <td>Localización precisa</td>\n",
       "      <td>NaN</td>\n",
       "      <td>DNPyM</td>\n",
       "      <td>Privada</td>\n",
       "      <td>1949.0</td>\n",
       "      <td>300043</td>\n",
       "    </tr>\n",
       "  </tbody>\n",
       "</table>\n",
       "<p>5 rows × 24 columns</p>\n",
       "</div>"
      ],
      "text/plain": [
       "   cod_localidad  id_provincia  id_departamento  observaciones  \\\n",
       "0        6588100             6             6588            NaN   \n",
       "1        6077010             6             6077            NaN   \n",
       "2        6035010             6             6035            NaN   \n",
       "3        6035010             6             6035            NaN   \n",
       "4        6049020             6             6049            NaN   \n",
       "\n",
       "                            categoría subcategoria     provincia   localidad  \\\n",
       "0  Espacios de Exhibición Patrimonial       Museos  Buenos Aires  9 de Julio   \n",
       "1  Espacios de Exhibición Patrimonial       Museos  Buenos Aires   Arrecifes   \n",
       "2  Espacios de Exhibición Patrimonial       Museos  Buenos Aires  Avellaneda   \n",
       "3  Espacios de Exhibición Patrimonial       Museos  Buenos Aires  Avellaneda   \n",
       "4  Espacios de Exhibición Patrimonial       Museos  Buenos Aires        Azul   \n",
       "\n",
       "                                              nombre  \\\n",
       "0     Archivo Y Museo Histórico Gral. Julio De Vedia   \n",
       "1             Museo Y Archivo Histórico De Arrecifes   \n",
       "2    Museo Histórico-Sacro  Hno. Rogelio Scortegagna   \n",
       "3   Museo Municipal De Artes Plásticas De Avellaneda   \n",
       "4  Museo Etnográfico Y Archivo Histórico Enrique ...   \n",
       "\n",
       "                          domicilio  ...                        mail  \\\n",
       "0                     Libertad 1191  ...  archivoymuseo@yahoo.com.ar   \n",
       "1            Gerardo Risso y España  ...  museoarrecifes@hotmail.com   \n",
       "2  Calle 11 (Av. San Martín) Nº 830  ...                         NaN   \n",
       "3           Sarmiento 101, 1 º Piso  ...                         NaN   \n",
       "4            Bartolomé J. Ronco 654  ...         museoazul@yahoo.com   \n",
       "\n",
       "                     web    latitud   longitud   tipolatitudlongitud  \\\n",
       "0  www.portaldel9.com.ar -35.441762 -60.887598  Localización precisa   \n",
       "1                    NaN -34.066970 -60.102555  Localización precisa   \n",
       "2                    NaN -29.118024 -59.654543  Localización precisa   \n",
       "3                    NaN -34.662110 -58.363270  Localización precisa   \n",
       "4                    NaN -36.781824 -59.858636  Localización precisa   \n",
       "\n",
       "  info_adicional  fuente  jurisdiccion año_inauguracion id_sinca  \n",
       "0            NaN   DNPyM     Municipal           1920.0   300003  \n",
       "1            NaN   DNPyM     Municipal           1972.0   300037  \n",
       "2            NaN   DNPyM     Municipal              NaN   300041  \n",
       "3            NaN   DNPyM     Municipal           1956.0   300042  \n",
       "4            NaN   DNPyM       Privada           1949.0   300043  \n",
       "\n",
       "[5 rows x 24 columns]"
      ]
     },
     "execution_count": 10,
     "metadata": {},
     "output_type": "execute_result"
    }
   ],
   "source": [
    "data_museos.head()"
   ]
  },
  {
   "cell_type": "code",
   "execution_count": 44,
   "metadata": {},
   "outputs": [
    {
     "data": {
      "text/plain": [
       "'Cantidad de datos correspondientes a Museos de las principales provincias:'"
      ]
     },
     "execution_count": 44,
     "metadata": {},
     "output_type": "execute_result"
    }
   ],
   "source": [
    "\"\"\"Cantidad de datos correspondientes a Museos de las principales provincias:\"\"\""
   ]
  },
  {
   "cell_type": "code",
   "execution_count": 11,
   "metadata": {},
   "outputs": [
    {
     "data": {
      "text/plain": [
       "Text(0, 0.5, 'Proporción de datos reportados')"
      ]
     },
     "execution_count": 11,
     "metadata": {},
     "output_type": "execute_result"
    },
    {
     "data": {
      "image/png": "[encoded data removed]",
      "text/plain": [
       "<Figure size 432x288 with 1 Axes>"
      ]
     },
     "metadata": {
      "needs_background": "light"
     },
     "output_type": "display_data"
    }
   ],
   "source": [
    "ax=data_museos[\"provincia\"].value_counts(normalize=True)[:5].plot(kind=\"bar\")\n",
    "plt.legend()\n",
    "ax.set_title('Datos por Provincia',fontsize=20)\n",
    "ax.set_xlabel('Provincia',fontsize=15)\n",
    "ax.set_ylabel('Proporción de datos reportados',fontsize=15)"
   ]
  },
  {
   "cell_type": "code",
   "execution_count": 13,
   "metadata": {},
   "outputs": [
    {
     "data": {
      "text/plain": [
       "Espacios de Exhibición Patrimonial    1182\n",
       "Name: categoría, dtype: int64"
      ]
     },
     "execution_count": 13,
     "metadata": {},
     "output_type": "execute_result"
    }
   ],
   "source": [
    "data_museos[\"categoría\"].value_counts()"
   ]
  },
  {
   "cell_type": "code",
   "execution_count": 45,
   "metadata": {},
   "outputs": [
    {
     "data": {
      "text/plain": [
       "'Proporción de datos correspondientes jurisdicciones de Museos:'"
      ]
     },
     "execution_count": 45,
     "metadata": {},
     "output_type": "execute_result"
    }
   ],
   "source": [
    "\"\"\"Proporción de datos correspondientes jurisdicciones de Museos:\"\"\""
   ]
  },
  {
   "cell_type": "code",
   "execution_count": 16,
   "metadata": {},
   "outputs": [
    {
     "data": {
      "text/plain": [
       "<AxesSubplot:ylabel='jurisdiccion'>"
      ]
     },
     "execution_count": 16,
     "metadata": {},
     "output_type": "execute_result"
    },
    {
     "data": {
      "image/png": "[encoded data removed]",
      "text/plain": [
       "<Figure size 432x288 with 1 Axes>"
      ]
     },
     "metadata": {},
     "output_type": "display_data"
    }
   ],
   "source": [
    "data_museos[\"jurisdiccion\"].value_counts()[:5].plot(kind=\"pie\")"
   ]
  },
  {
   "cell_type": "code",
   "execution_count": 17,
   "metadata": {},
   "outputs": [
    {
     "data": {
      "text/plain": [
       "Municipal     0.397235\n",
       "Privada       0.235023\n",
       "Provincial    0.153917\n",
       "Nacional      0.131797\n",
       "s/d           0.029493\n",
       "Name: jurisdiccion, dtype: float64"
      ]
     },
     "execution_count": 17,
     "metadata": {},
     "output_type": "execute_result"
    }
   ],
   "source": [
    "data_museos[\"jurisdiccion\"].value_counts(normalize=True)[:5]"
   ]
  },
  {
   "cell_type": "code",
   "execution_count": 46,
   "metadata": {},
   "outputs": [
    {
     "data": {
      "text/plain": [
       "'Analizamos la base de cines:'"
      ]
     },
     "execution_count": 46,
     "metadata": {},
     "output_type": "execute_result"
    }
   ],
   "source": [
    "\"\"\"Analizamos la base de cines:\"\"\""
   ]
  },
  {
   "cell_type": "code",
   "execution_count": 18,
   "metadata": {},
   "outputs": [
    {
     "data": {
      "text/html": [
       "<div>\n",
       "<style scoped>\n",
       "    .dataframe tbody tr th:only-of-type {\n",
       "        vertical-align: middle;\n",
       "    }\n",
       "\n",
       "    .dataframe tbody tr th {\n",
       "        vertical-align: top;\n",
       "    }\n",
       "\n",
       "    .dataframe thead th {\n",
       "        text-align: right;\n",
       "    }\n",
       "</style>\n",
       "<table border=\"1\" class=\"dataframe\">\n",
       "  <thead>\n",
       "    <tr style=\"text-align: right;\">\n",
       "      <th></th>\n",
       "      <th>cod_localidad</th>\n",
       "      <th>id_provincia</th>\n",
       "      <th>id_departamento</th>\n",
       "      <th>observaciones</th>\n",
       "      <th>categoría</th>\n",
       "      <th>provincia</th>\n",
       "      <th>departamento</th>\n",
       "      <th>localidad</th>\n",
       "      <th>nombre</th>\n",
       "      <th>domicilio</th>\n",
       "      <th>...</th>\n",
       "      <th>información adicional</th>\n",
       "      <th>latitud</th>\n",
       "      <th>longitud</th>\n",
       "      <th>tipolatitudlongitud</th>\n",
       "      <th>fuente</th>\n",
       "      <th>tipo_gestion</th>\n",
       "      <th>pantallas</th>\n",
       "      <th>butacas</th>\n",
       "      <th>espacio_incaa</th>\n",
       "      <th>año_actualizacion</th>\n",
       "    </tr>\n",
       "  </thead>\n",
       "  <tbody>\n",
       "    <tr>\n",
       "      <th>0</th>\n",
       "      <td>10049030</td>\n",
       "      <td>10</td>\n",
       "      <td>10049</td>\n",
       "      <td>NaN</td>\n",
       "      <td>Salas de cine</td>\n",
       "      <td>Catamarca</td>\n",
       "      <td>Capital</td>\n",
       "      <td>Catamarca</td>\n",
       "      <td>Cinemacenter</td>\n",
       "      <td>Intendente Mamerto Medina 220</td>\n",
       "      <td>...</td>\n",
       "      <td>NaN</td>\n",
       "      <td>-28.464737</td>\n",
       "      <td>-65.800675</td>\n",
       "      <td>Localización precisa</td>\n",
       "      <td>INCAA / SInCA</td>\n",
       "      <td>Privado comercial</td>\n",
       "      <td>5</td>\n",
       "      <td>743</td>\n",
       "      <td>NaN</td>\n",
       "      <td>2018</td>\n",
       "    </tr>\n",
       "    <tr>\n",
       "      <th>1</th>\n",
       "      <td>10091150</td>\n",
       "      <td>10</td>\n",
       "      <td>10091</td>\n",
       "      <td>NaN</td>\n",
       "      <td>Salas de cine</td>\n",
       "      <td>Catamarca</td>\n",
       "      <td>Santa Maria</td>\n",
       "      <td>Santa María</td>\n",
       "      <td>Centro Cultural San Agustín</td>\n",
       "      <td>San Martin 173</td>\n",
       "      <td>...</td>\n",
       "      <td>NaN</td>\n",
       "      <td>-26.693859</td>\n",
       "      <td>-66.049058</td>\n",
       "      <td>Localización precisa</td>\n",
       "      <td>INCAA / SInCA</td>\n",
       "      <td>Privado comercial</td>\n",
       "      <td>1</td>\n",
       "      <td>440</td>\n",
       "      <td>0</td>\n",
       "      <td>2018</td>\n",
       "    </tr>\n",
       "    <tr>\n",
       "      <th>2</th>\n",
       "      <td>22140060</td>\n",
       "      <td>22</td>\n",
       "      <td>22140</td>\n",
       "      <td>NaN</td>\n",
       "      <td>Salas de cine</td>\n",
       "      <td>Chaco</td>\n",
       "      <td>San Fernando</td>\n",
       "      <td>Resistencia</td>\n",
       "      <td>Los Cines De La Costa</td>\n",
       "      <td>Av. Sarmiento 2600</td>\n",
       "      <td>...</td>\n",
       "      <td>NaN</td>\n",
       "      <td>-27.430995</td>\n",
       "      <td>-58.962672</td>\n",
       "      <td>Localización precisa</td>\n",
       "      <td>INCAA / SInCA</td>\n",
       "      <td>Privado comercial</td>\n",
       "      <td>5</td>\n",
       "      <td>820</td>\n",
       "      <td>NaN</td>\n",
       "      <td>2018</td>\n",
       "    </tr>\n",
       "    <tr>\n",
       "      <th>3</th>\n",
       "      <td>26091020</td>\n",
       "      <td>26</td>\n",
       "      <td>26091</td>\n",
       "      <td>NaN</td>\n",
       "      <td>Salas de cine</td>\n",
       "      <td>Chubut</td>\n",
       "      <td>Sarmiento</td>\n",
       "      <td>Sarmiento</td>\n",
       "      <td>Deborah Jones De Williams</td>\n",
       "      <td>Reg. Inf. Mec. 25 Esquina 20 De Junio</td>\n",
       "      <td>...</td>\n",
       "      <td>NaN</td>\n",
       "      <td>-45.594374</td>\n",
       "      <td>-69.069594</td>\n",
       "      <td>Localización precisa</td>\n",
       "      <td>INCAA / SInCA</td>\n",
       "      <td>Público municipal</td>\n",
       "      <td>1</td>\n",
       "      <td>80</td>\n",
       "      <td>NaN</td>\n",
       "      <td>2018</td>\n",
       "    </tr>\n",
       "    <tr>\n",
       "      <th>4</th>\n",
       "      <td>18007010</td>\n",
       "      <td>18</td>\n",
       "      <td>18007</td>\n",
       "      <td>NaN</td>\n",
       "      <td>Salas de cine</td>\n",
       "      <td>Corrientes</td>\n",
       "      <td>Bella Vista</td>\n",
       "      <td>Bella Vista</td>\n",
       "      <td>Fantasio</td>\n",
       "      <td>Salta 1059</td>\n",
       "      <td>...</td>\n",
       "      <td>NaN</td>\n",
       "      <td>-28.508494</td>\n",
       "      <td>-59.045464</td>\n",
       "      <td>Localización precisa</td>\n",
       "      <td>INCAA / SInCA</td>\n",
       "      <td>Privado comercial</td>\n",
       "      <td>1</td>\n",
       "      <td>240</td>\n",
       "      <td>NaN</td>\n",
       "      <td>2018</td>\n",
       "    </tr>\n",
       "  </tbody>\n",
       "</table>\n",
       "<p>5 rows × 26 columns</p>\n",
       "</div>"
      ],
      "text/plain": [
       "   cod_localidad  id_provincia  id_departamento  observaciones      categoría  \\\n",
       "0       10049030            10            10049            NaN  Salas de cine   \n",
       "1       10091150            10            10091            NaN  Salas de cine   \n",
       "2       22140060            22            22140            NaN  Salas de cine   \n",
       "3       26091020            26            26091            NaN  Salas de cine   \n",
       "4       18007010            18            18007            NaN  Salas de cine   \n",
       "\n",
       "    provincia  departamento    localidad                       nombre  \\\n",
       "0   Catamarca       Capital    Catamarca                 Cinemacenter   \n",
       "1   Catamarca   Santa Maria  Santa María  Centro Cultural San Agustín   \n",
       "2       Chaco  San Fernando  Resistencia        Los Cines De La Costa   \n",
       "3      Chubut     Sarmiento    Sarmiento    Deborah Jones De Williams   \n",
       "4  Corrientes   Bella Vista  Bella Vista                     Fantasio   \n",
       "\n",
       "                               domicilio  ... información adicional  \\\n",
       "0          Intendente Mamerto Medina 220  ...                   NaN   \n",
       "1                         San Martin 173  ...                   NaN   \n",
       "2                     Av. Sarmiento 2600  ...                   NaN   \n",
       "3  Reg. Inf. Mec. 25 Esquina 20 De Junio  ...                   NaN   \n",
       "4                             Salta 1059  ...                   NaN   \n",
       "\n",
       "     latitud   longitud   tipolatitudlongitud         fuente  \\\n",
       "0 -28.464737 -65.800675  Localización precisa  INCAA / SInCA   \n",
       "1 -26.693859 -66.049058  Localización precisa  INCAA / SInCA   \n",
       "2 -27.430995 -58.962672  Localización precisa  INCAA / SInCA   \n",
       "3 -45.594374 -69.069594  Localización precisa  INCAA / SInCA   \n",
       "4 -28.508494 -59.045464  Localización precisa  INCAA / SInCA   \n",
       "\n",
       "        tipo_gestion  pantallas  butacas  espacio_incaa año_actualizacion  \n",
       "0  Privado comercial          5      743            NaN              2018  \n",
       "1  Privado comercial          1      440              0              2018  \n",
       "2  Privado comercial          5      820            NaN              2018  \n",
       "3  Público municipal          1       80            NaN              2018  \n",
       "4  Privado comercial          1      240            NaN              2018  \n",
       "\n",
       "[5 rows x 26 columns]"
      ]
     },
     "execution_count": 18,
     "metadata": {},
     "output_type": "execute_result"
    }
   ],
   "source": [
    "data_cines.head()"
   ]
  },
  {
   "cell_type": "code",
   "execution_count": 47,
   "metadata": {},
   "outputs": [
    {
     "data": {
      "text/plain": [
       "'Cantidad de datos correspondientes a Museos de las principales provincias:'"
      ]
     },
     "execution_count": 47,
     "metadata": {},
     "output_type": "execute_result"
    }
   ],
   "source": [
    "\"\"\"Cantidad de datos correspondientes a Museos de las principales provincias:\"\"\""
   ]
  },
  {
   "cell_type": "code",
   "execution_count": 19,
   "metadata": {},
   "outputs": [
    {
     "data": {
      "text/plain": [
       "Text(0, 0.5, 'Proporción de datos reportados')"
      ]
     },
     "execution_count": 19,
     "metadata": {},
     "output_type": "execute_result"
    },
    {
     "data": {
      "image/png": "[encoded data removed]",
      "text/plain": [
       "<Figure size 432x288 with 1 Axes>"
      ]
     },
     "metadata": {
      "needs_background": "light"
     },
     "output_type": "display_data"
    }
   ],
   "source": [
    "ax=data_cines[\"provincia\"].value_counts(normalize=True)[:5].plot(kind=\"bar\")\n",
    "plt.legend()\n",
    "ax.set_title('Datos por Provincia',fontsize=20)\n",
    "ax.set_xlabel('Provincia',fontsize=15)\n",
    "ax.set_ylabel('Proporción de datos reportados',fontsize=15)"
   ]
  },
  {
   "cell_type": "code",
   "execution_count": 21,
   "metadata": {},
   "outputs": [
    {
     "data": {
      "text/plain": [
       "Salas de cine    329\n",
       "Name: categoría, dtype: int64"
      ]
     },
     "execution_count": 21,
     "metadata": {},
     "output_type": "execute_result"
    }
   ],
   "source": [
    "data_cines[\"categoría\"].value_counts()"
   ]
  },
  {
   "cell_type": "code",
   "execution_count": 49,
   "metadata": {},
   "outputs": [
    {
     "data": {
      "text/plain": [
       "'Proporción de datos correspondientes a Museos según jurisdicción:'"
      ]
     },
     "execution_count": 49,
     "metadata": {},
     "output_type": "execute_result"
    }
   ],
   "source": [
    "\"\"\"Proporción de datos correspondientes a Museos según jurisdicción:\"\"\""
   ]
  },
  {
   "cell_type": "code",
   "execution_count": 22,
   "metadata": {},
   "outputs": [
    {
     "data": {
      "text/plain": [
       "<AxesSubplot:ylabel='tipo_gestion'>"
      ]
     },
     "execution_count": 22,
     "metadata": {},
     "output_type": "execute_result"
    },
    {
     "data": {
      "image/png": "[encoded data removed]",
      "text/plain": [
       "<Figure size 432x288 with 1 Axes>"
      ]
     },
     "metadata": {},
     "output_type": "display_data"
    }
   ],
   "source": [
    "data_cines[\"tipo_gestion\"].value_counts()[:5].plot(kind=\"pie\")"
   ]
  },
  {
   "cell_type": "code",
   "execution_count": 23,
   "metadata": {},
   "outputs": [
    {
     "data": {
      "text/plain": [
       "Privado comercial        0.738602\n",
       "Público municipal        0.170213\n",
       "Público provincial       0.027356\n",
       "Privado independiente    0.024316\n",
       "Público nacional         0.024316\n",
       "Name: tipo_gestion, dtype: float64"
      ]
     },
     "execution_count": 23,
     "metadata": {},
     "output_type": "execute_result"
    }
   ],
   "source": [
    "data_cines[\"tipo_gestion\"].value_counts(normalize=True)[:5]"
   ]
  },
  {
   "cell_type": "code",
   "execution_count": 50,
   "metadata": {},
   "outputs": [
    {
     "data": {
      "text/plain": [
       "'Analizamos la base de bibliotecas populares:'"
      ]
     },
     "execution_count": 50,
     "metadata": {},
     "output_type": "execute_result"
    }
   ],
   "source": [
    "\"\"\"Analizamos la base de bibliotecas populares:\"\"\""
   ]
  },
  {
   "cell_type": "code",
   "execution_count": 24,
   "metadata": {},
   "outputs": [
    {
     "data": {
      "text/html": [
       "<div>\n",
       "<style scoped>\n",
       "    .dataframe tbody tr th:only-of-type {\n",
       "        vertical-align: middle;\n",
       "    }\n",
       "\n",
       "    .dataframe tbody tr th {\n",
       "        vertical-align: top;\n",
       "    }\n",
       "\n",
       "    .dataframe thead th {\n",
       "        text-align: right;\n",
       "    }\n",
       "</style>\n",
       "<table border=\"1\" class=\"dataframe\">\n",
       "  <thead>\n",
       "    <tr style=\"text-align: right;\">\n",
       "      <th></th>\n",
       "      <th>cod_localidad</th>\n",
       "      <th>id_provincia</th>\n",
       "      <th>id_departamento</th>\n",
       "      <th>observacion</th>\n",
       "      <th>categoría</th>\n",
       "      <th>subcategoria</th>\n",
       "      <th>provincia</th>\n",
       "      <th>departamento</th>\n",
       "      <th>localidad</th>\n",
       "      <th>nombre</th>\n",
       "      <th>...</th>\n",
       "      <th>mail</th>\n",
       "      <th>web</th>\n",
       "      <th>información adicional</th>\n",
       "      <th>latitud</th>\n",
       "      <th>longitud</th>\n",
       "      <th>tipolatitudlongitud</th>\n",
       "      <th>fuente</th>\n",
       "      <th>tipo_gestion</th>\n",
       "      <th>año_inicio</th>\n",
       "      <th>año_actualizacion</th>\n",
       "    </tr>\n",
       "  </thead>\n",
       "  <tbody>\n",
       "    <tr>\n",
       "      <th>0</th>\n",
       "      <td>70049060</td>\n",
       "      <td>70</td>\n",
       "      <td>70049</td>\n",
       "      <td>NaN</td>\n",
       "      <td>Bibliotecas Populares</td>\n",
       "      <td>NaN</td>\n",
       "      <td>San Juan</td>\n",
       "      <td>Iglesia</td>\n",
       "      <td>Rodeo</td>\n",
       "      <td>Biblioteca Popular Juan P. Garramuno</td>\n",
       "      <td>...</td>\n",
       "      <td>s/d</td>\n",
       "      <td>NaN</td>\n",
       "      <td>NaN</td>\n",
       "      <td>-30.209250</td>\n",
       "      <td>-69.130117</td>\n",
       "      <td>Localización precisa</td>\n",
       "      <td>CONABIP</td>\n",
       "      <td>Comunitaria</td>\n",
       "      <td>1930.0</td>\n",
       "      <td>2018</td>\n",
       "    </tr>\n",
       "    <tr>\n",
       "      <th>1</th>\n",
       "      <td>2000010</td>\n",
       "      <td>2</td>\n",
       "      <td>2000</td>\n",
       "      <td>NaN</td>\n",
       "      <td>Bibliotecas Populares</td>\n",
       "      <td>NaN</td>\n",
       "      <td>Ciudad Autónoma de Buenos Aires</td>\n",
       "      <td>Ciudad Autonoma de Buenos Aires</td>\n",
       "      <td>Ciudad de Buenos Aires</td>\n",
       "      <td>Biblioteca Popular Helena Larroque de Roffo</td>\n",
       "      <td>...</td>\n",
       "      <td>asociacionroffo@yahoo.com.ar</td>\n",
       "      <td>NaN</td>\n",
       "      <td>NaN</td>\n",
       "      <td>-34.598461</td>\n",
       "      <td>-58.494690</td>\n",
       "      <td>Localización precisa</td>\n",
       "      <td>CONABIP</td>\n",
       "      <td>Comunitaria</td>\n",
       "      <td>1916.0</td>\n",
       "      <td>2018</td>\n",
       "    </tr>\n",
       "    <tr>\n",
       "      <th>2</th>\n",
       "      <td>2000010</td>\n",
       "      <td>2</td>\n",
       "      <td>2000</td>\n",
       "      <td>NaN</td>\n",
       "      <td>Bibliotecas Populares</td>\n",
       "      <td>NaN</td>\n",
       "      <td>Ciudad Autónoma de Buenos Aires</td>\n",
       "      <td>Ciudad Autonoma de Buenos Aires</td>\n",
       "      <td>Ciudad de Buenos Aires</td>\n",
       "      <td>Biblioteca Popular 12 de Octubre</td>\n",
       "      <td>...</td>\n",
       "      <td>popular12deoctubre@hotmail.com</td>\n",
       "      <td>NaN</td>\n",
       "      <td>NaN</td>\n",
       "      <td>-34.613235</td>\n",
       "      <td>-58.448997</td>\n",
       "      <td>Localización precisa</td>\n",
       "      <td>CONABIP</td>\n",
       "      <td>Comunitaria</td>\n",
       "      <td>1910.0</td>\n",
       "      <td>2018</td>\n",
       "    </tr>\n",
       "    <tr>\n",
       "      <th>3</th>\n",
       "      <td>2000010</td>\n",
       "      <td>2</td>\n",
       "      <td>2000</td>\n",
       "      <td>NaN</td>\n",
       "      <td>Bibliotecas Populares</td>\n",
       "      <td>NaN</td>\n",
       "      <td>Ciudad Autónoma de Buenos Aires</td>\n",
       "      <td>Ciudad Autonoma de Buenos Aires</td>\n",
       "      <td>Ciudad de Buenos Aires</td>\n",
       "      <td>Biblioteca Popular Villa Pueyrredón Norte</td>\n",
       "      <td>...</td>\n",
       "      <td>bibliotecapueyrredon@hotmail.com</td>\n",
       "      <td>NaN</td>\n",
       "      <td>NaN</td>\n",
       "      <td>-34.575890</td>\n",
       "      <td>-58.501591</td>\n",
       "      <td>Localización precisa</td>\n",
       "      <td>CONABIP</td>\n",
       "      <td>Comunitaria</td>\n",
       "      <td>1916.0</td>\n",
       "      <td>2018</td>\n",
       "    </tr>\n",
       "    <tr>\n",
       "      <th>4</th>\n",
       "      <td>2000010</td>\n",
       "      <td>2</td>\n",
       "      <td>2000</td>\n",
       "      <td>NaN</td>\n",
       "      <td>Bibliotecas Populares</td>\n",
       "      <td>NaN</td>\n",
       "      <td>Ciudad Autónoma de Buenos Aires</td>\n",
       "      <td>Ciudad Autonoma de Buenos Aires</td>\n",
       "      <td>Ciudad de Buenos Aires</td>\n",
       "      <td>Biblioteca Popular Alberdi</td>\n",
       "      <td>...</td>\n",
       "      <td>bibliotecapopularalberdi@yahoo.com.ar</td>\n",
       "      <td>NaN</td>\n",
       "      <td>NaN</td>\n",
       "      <td>-34.596157</td>\n",
       "      <td>-58.437668</td>\n",
       "      <td>Localización precisa</td>\n",
       "      <td>CONABIP</td>\n",
       "      <td>Comunitaria</td>\n",
       "      <td>1910.0</td>\n",
       "      <td>2018</td>\n",
       "    </tr>\n",
       "  </tbody>\n",
       "</table>\n",
       "<p>5 rows × 25 columns</p>\n",
       "</div>"
      ],
      "text/plain": [
       "   cod_localidad  id_provincia  id_departamento  observacion  \\\n",
       "0       70049060            70            70049          NaN   \n",
       "1        2000010             2             2000          NaN   \n",
       "2        2000010             2             2000          NaN   \n",
       "3        2000010             2             2000          NaN   \n",
       "4        2000010             2             2000          NaN   \n",
       "\n",
       "               categoría  subcategoria                        provincia  \\\n",
       "0  Bibliotecas Populares           NaN                         San Juan   \n",
       "1  Bibliotecas Populares           NaN  Ciudad Autónoma de Buenos Aires   \n",
       "2  Bibliotecas Populares           NaN  Ciudad Autónoma de Buenos Aires   \n",
       "3  Bibliotecas Populares           NaN  Ciudad Autónoma de Buenos Aires   \n",
       "4  Bibliotecas Populares           NaN  Ciudad Autónoma de Buenos Aires   \n",
       "\n",
       "                      departamento               localidad  \\\n",
       "0                          Iglesia                   Rodeo   \n",
       "1  Ciudad Autonoma de Buenos Aires  Ciudad de Buenos Aires   \n",
       "2  Ciudad Autonoma de Buenos Aires  Ciudad de Buenos Aires   \n",
       "3  Ciudad Autonoma de Buenos Aires  Ciudad de Buenos Aires   \n",
       "4  Ciudad Autonoma de Buenos Aires  Ciudad de Buenos Aires   \n",
       "\n",
       "                                        nombre  ...  \\\n",
       "0         Biblioteca Popular Juan P. Garramuno  ...   \n",
       "1  Biblioteca Popular Helena Larroque de Roffo  ...   \n",
       "2             Biblioteca Popular 12 de Octubre  ...   \n",
       "3    Biblioteca Popular Villa Pueyrredón Norte  ...   \n",
       "4                   Biblioteca Popular Alberdi  ...   \n",
       "\n",
       "                                    mail  web información adicional  \\\n",
       "0                                    s/d  NaN                   NaN   \n",
       "1           asociacionroffo@yahoo.com.ar  NaN                   NaN   \n",
       "2         popular12deoctubre@hotmail.com  NaN                   NaN   \n",
       "3       bibliotecapueyrredon@hotmail.com  NaN                   NaN   \n",
       "4  bibliotecapopularalberdi@yahoo.com.ar  NaN                   NaN   \n",
       "\n",
       "     latitud   longitud   tipolatitudlongitud   fuente  tipo_gestion  \\\n",
       "0 -30.209250 -69.130117  Localización precisa  CONABIP   Comunitaria   \n",
       "1 -34.598461 -58.494690  Localización precisa  CONABIP   Comunitaria   \n",
       "2 -34.613235 -58.448997  Localización precisa  CONABIP   Comunitaria   \n",
       "3 -34.575890 -58.501591  Localización precisa  CONABIP   Comunitaria   \n",
       "4 -34.596157 -58.437668  Localización precisa  CONABIP   Comunitaria   \n",
       "\n",
       "   año_inicio  año_actualizacion  \n",
       "0      1930.0               2018  \n",
       "1      1916.0               2018  \n",
       "2      1910.0               2018  \n",
       "3      1916.0               2018  \n",
       "4      1910.0               2018  \n",
       "\n",
       "[5 rows x 25 columns]"
      ]
     },
     "execution_count": 24,
     "metadata": {},
     "output_type": "execute_result"
    }
   ],
   "source": [
    "data_biblio.head()"
   ]
  },
  {
   "cell_type": "code",
   "execution_count": 51,
   "metadata": {},
   "outputs": [
    {
     "data": {
      "text/plain": [
       "'Cantidad de datos correspondientes a Bibliotecas de las principales provincias:'"
      ]
     },
     "execution_count": 51,
     "metadata": {},
     "output_type": "execute_result"
    }
   ],
   "source": [
    "\"\"\"Cantidad de datos correspondientes a Bibliotecas de las principales provincias:\"\"\""
   ]
  },
  {
   "cell_type": "code",
   "execution_count": 25,
   "metadata": {},
   "outputs": [
    {
     "data": {
      "text/plain": [
       "Text(0, 0.5, 'Proporción de datos reportados')"
      ]
     },
     "execution_count": 25,
     "metadata": {},
     "output_type": "execute_result"
    },
    {
     "data": {
      "image/png": "[encoded data removed]",
      "text/plain": [
       "<Figure size 432x288 with 1 Axes>"
      ]
     },
     "metadata": {
      "needs_background": "light"
     },
     "output_type": "display_data"
    }
   ],
   "source": [
    "ax=data_biblio[\"provincia\"].value_counts(normalize=True)[:5].plot(kind=\"bar\")\n",
    "plt.legend()\n",
    "ax.set_title('Datos por Provincia',fontsize=20)\n",
    "ax.set_xlabel('Provincia',fontsize=15)\n",
    "ax.set_ylabel('Proporción de datos reportados',fontsize=15)"
   ]
  },
  {
   "cell_type": "code",
   "execution_count": 26,
   "metadata": {},
   "outputs": [
    {
     "data": {
      "text/plain": [
       "Bibliotecas Populares    2017\n",
       "Name: categoría, dtype: int64"
      ]
     },
     "execution_count": 26,
     "metadata": {},
     "output_type": "execute_result"
    }
   ],
   "source": [
    "data_biblio[\"categoría\"].value_counts()"
   ]
  },
  {
   "cell_type": "code",
   "execution_count": 52,
   "metadata": {},
   "outputs": [
    {
     "data": {
      "text/plain": [
       "'Proporción de datos según tipo de gestión:'"
      ]
     },
     "execution_count": 52,
     "metadata": {},
     "output_type": "execute_result"
    }
   ],
   "source": [
    "\"\"\"Proporción de datos según tipo de gestión:\"\"\""
   ]
  },
  {
   "cell_type": "code",
   "execution_count": 27,
   "metadata": {},
   "outputs": [
    {
     "data": {
      "text/plain": [
       "<AxesSubplot:ylabel='tipo_gestion'>"
      ]
     },
     "execution_count": 27,
     "metadata": {},
     "output_type": "execute_result"
    },
    {
     "data": {
      "image/png": "[encoded data removed]",
      "text/plain": [
       "<Figure size 432x288 with 1 Axes>"
      ]
     },
     "metadata": {},
     "output_type": "display_data"
    }
   ],
   "source": [
    "data_biblio[\"tipo_gestion\"].value_counts()[:5].plot(kind=\"pie\")"
   ]
  },
  {
   "cell_type": "code",
   "execution_count": 28,
   "metadata": {},
   "outputs": [
    {
     "data": {
      "text/plain": [
       "Comunitaria    1.0\n",
       "Name: tipo_gestion, dtype: float64"
      ]
     },
     "execution_count": 28,
     "metadata": {},
     "output_type": "execute_result"
    }
   ],
   "source": [
    "data_biblio[\"tipo_gestion\"].value_counts(normalize=True)[:5]"
   ]
  },
  {
   "cell_type": "code",
   "execution_count": 53,
   "metadata": {},
   "outputs": [
    {
     "data": {
      "text/plain": [
       "'Concatenamos las 3 bases de datos para obtener los datos solicitados:'"
      ]
     },
     "execution_count": 53,
     "metadata": {},
     "output_type": "execute_result"
    }
   ],
   "source": [
    "\"\"\"Concatenamos las 3 bases de datos para obtener los datos solicitados:\"\"\""
   ]
  },
  {
   "cell_type": "code",
   "execution_count": 29,
   "metadata": {},
   "outputs": [],
   "source": [
    "data_concat=pd.concat([data_cines,data_biblio,data_museos])"
   ]
  },
  {
   "cell_type": "code",
   "execution_count": 30,
   "metadata": {},
   "outputs": [
    {
     "data": {
      "text/html": [
       "<div>\n",
       "<style scoped>\n",
       "    .dataframe tbody tr th:only-of-type {\n",
       "        vertical-align: middle;\n",
       "    }\n",
       "\n",
       "    .dataframe tbody tr th {\n",
       "        vertical-align: top;\n",
       "    }\n",
       "\n",
       "    .dataframe thead th {\n",
       "        text-align: right;\n",
       "    }\n",
       "</style>\n",
       "<table border=\"1\" class=\"dataframe\">\n",
       "  <thead>\n",
       "    <tr style=\"text-align: right;\">\n",
       "      <th></th>\n",
       "      <th>cod_localidad</th>\n",
       "      <th>id_provincia</th>\n",
       "      <th>id_departamento</th>\n",
       "      <th>observaciones</th>\n",
       "      <th>categoría</th>\n",
       "      <th>provincia</th>\n",
       "      <th>departamento</th>\n",
       "      <th>localidad</th>\n",
       "      <th>nombre</th>\n",
       "      <th>domicilio</th>\n",
       "      <th>...</th>\n",
       "      <th>espacio_incaa</th>\n",
       "      <th>año_actualizacion</th>\n",
       "      <th>observacion</th>\n",
       "      <th>subcategoria</th>\n",
       "      <th>cod_tel</th>\n",
       "      <th>año_inicio</th>\n",
       "      <th>info_adicional</th>\n",
       "      <th>jurisdiccion</th>\n",
       "      <th>año_inauguracion</th>\n",
       "      <th>id_sinca</th>\n",
       "    </tr>\n",
       "  </thead>\n",
       "  <tbody>\n",
       "    <tr>\n",
       "      <th>0</th>\n",
       "      <td>10049030</td>\n",
       "      <td>10</td>\n",
       "      <td>10049</td>\n",
       "      <td>NaN</td>\n",
       "      <td>Salas de cine</td>\n",
       "      <td>Catamarca</td>\n",
       "      <td>Capital</td>\n",
       "      <td>Catamarca</td>\n",
       "      <td>Cinemacenter</td>\n",
       "      <td>Intendente Mamerto Medina 220</td>\n",
       "      <td>...</td>\n",
       "      <td>NaN</td>\n",
       "      <td>2018.0</td>\n",
       "      <td>NaN</td>\n",
       "      <td>NaN</td>\n",
       "      <td>NaN</td>\n",
       "      <td>NaN</td>\n",
       "      <td>NaN</td>\n",
       "      <td>NaN</td>\n",
       "      <td>NaN</td>\n",
       "      <td>NaN</td>\n",
       "    </tr>\n",
       "    <tr>\n",
       "      <th>1</th>\n",
       "      <td>10091150</td>\n",
       "      <td>10</td>\n",
       "      <td>10091</td>\n",
       "      <td>NaN</td>\n",
       "      <td>Salas de cine</td>\n",
       "      <td>Catamarca</td>\n",
       "      <td>Santa Maria</td>\n",
       "      <td>Santa María</td>\n",
       "      <td>Centro Cultural San Agustín</td>\n",
       "      <td>San Martin 173</td>\n",
       "      <td>...</td>\n",
       "      <td>0</td>\n",
       "      <td>2018.0</td>\n",
       "      <td>NaN</td>\n",
       "      <td>NaN</td>\n",
       "      <td>NaN</td>\n",
       "      <td>NaN</td>\n",
       "      <td>NaN</td>\n",
       "      <td>NaN</td>\n",
       "      <td>NaN</td>\n",
       "      <td>NaN</td>\n",
       "    </tr>\n",
       "    <tr>\n",
       "      <th>2</th>\n",
       "      <td>22140060</td>\n",
       "      <td>22</td>\n",
       "      <td>22140</td>\n",
       "      <td>NaN</td>\n",
       "      <td>Salas de cine</td>\n",
       "      <td>Chaco</td>\n",
       "      <td>San Fernando</td>\n",
       "      <td>Resistencia</td>\n",
       "      <td>Los Cines De La Costa</td>\n",
       "      <td>Av. Sarmiento 2600</td>\n",
       "      <td>...</td>\n",
       "      <td>NaN</td>\n",
       "      <td>2018.0</td>\n",
       "      <td>NaN</td>\n",
       "      <td>NaN</td>\n",
       "      <td>NaN</td>\n",
       "      <td>NaN</td>\n",
       "      <td>NaN</td>\n",
       "      <td>NaN</td>\n",
       "      <td>NaN</td>\n",
       "      <td>NaN</td>\n",
       "    </tr>\n",
       "    <tr>\n",
       "      <th>3</th>\n",
       "      <td>26091020</td>\n",
       "      <td>26</td>\n",
       "      <td>26091</td>\n",
       "      <td>NaN</td>\n",
       "      <td>Salas de cine</td>\n",
       "      <td>Chubut</td>\n",
       "      <td>Sarmiento</td>\n",
       "      <td>Sarmiento</td>\n",
       "      <td>Deborah Jones De Williams</td>\n",
       "      <td>Reg. Inf. Mec. 25 Esquina 20 De Junio</td>\n",
       "      <td>...</td>\n",
       "      <td>NaN</td>\n",
       "      <td>2018.0</td>\n",
       "      <td>NaN</td>\n",
       "      <td>NaN</td>\n",
       "      <td>NaN</td>\n",
       "      <td>NaN</td>\n",
       "      <td>NaN</td>\n",
       "      <td>NaN</td>\n",
       "      <td>NaN</td>\n",
       "      <td>NaN</td>\n",
       "    </tr>\n",
       "    <tr>\n",
       "      <th>4</th>\n",
       "      <td>18007010</td>\n",
       "      <td>18</td>\n",
       "      <td>18007</td>\n",
       "      <td>NaN</td>\n",
       "      <td>Salas de cine</td>\n",
       "      <td>Corrientes</td>\n",
       "      <td>Bella Vista</td>\n",
       "      <td>Bella Vista</td>\n",
       "      <td>Fantasio</td>\n",
       "      <td>Salta 1059</td>\n",
       "      <td>...</td>\n",
       "      <td>NaN</td>\n",
       "      <td>2018.0</td>\n",
       "      <td>NaN</td>\n",
       "      <td>NaN</td>\n",
       "      <td>NaN</td>\n",
       "      <td>NaN</td>\n",
       "      <td>NaN</td>\n",
       "      <td>NaN</td>\n",
       "      <td>NaN</td>\n",
       "      <td>NaN</td>\n",
       "    </tr>\n",
       "  </tbody>\n",
       "</table>\n",
       "<p>5 rows × 34 columns</p>\n",
       "</div>"
      ],
      "text/plain": [
       "   cod_localidad  id_provincia  id_departamento  observaciones      categoría  \\\n",
       "0       10049030            10            10049            NaN  Salas de cine   \n",
       "1       10091150            10            10091            NaN  Salas de cine   \n",
       "2       22140060            22            22140            NaN  Salas de cine   \n",
       "3       26091020            26            26091            NaN  Salas de cine   \n",
       "4       18007010            18            18007            NaN  Salas de cine   \n",
       "\n",
       "    provincia  departamento    localidad                       nombre  \\\n",
       "0   Catamarca       Capital    Catamarca                 Cinemacenter   \n",
       "1   Catamarca   Santa Maria  Santa María  Centro Cultural San Agustín   \n",
       "2       Chaco  San Fernando  Resistencia        Los Cines De La Costa   \n",
       "3      Chubut     Sarmiento    Sarmiento    Deborah Jones De Williams   \n",
       "4  Corrientes   Bella Vista  Bella Vista                     Fantasio   \n",
       "\n",
       "                               domicilio  ... espacio_incaa año_actualizacion  \\\n",
       "0          Intendente Mamerto Medina 220  ...           NaN            2018.0   \n",
       "1                         San Martin 173  ...             0            2018.0   \n",
       "2                     Av. Sarmiento 2600  ...           NaN            2018.0   \n",
       "3  Reg. Inf. Mec. 25 Esquina 20 De Junio  ...           NaN            2018.0   \n",
       "4                             Salta 1059  ...           NaN            2018.0   \n",
       "\n",
       "  observacion subcategoria cod_tel año_inicio  info_adicional  jurisdiccion  \\\n",
       "0         NaN          NaN     NaN        NaN             NaN           NaN   \n",
       "1         NaN          NaN     NaN        NaN             NaN           NaN   \n",
       "2         NaN          NaN     NaN        NaN             NaN           NaN   \n",
       "3         NaN          NaN     NaN        NaN             NaN           NaN   \n",
       "4         NaN          NaN     NaN        NaN             NaN           NaN   \n",
       "\n",
       "   año_inauguracion id_sinca  \n",
       "0               NaN      NaN  \n",
       "1               NaN      NaN  \n",
       "2               NaN      NaN  \n",
       "3               NaN      NaN  \n",
       "4               NaN      NaN  \n",
       "\n",
       "[5 rows x 34 columns]"
      ]
     },
     "execution_count": 30,
     "metadata": {},
     "output_type": "execute_result"
    }
   ],
   "source": [
    "data_concat.head()"
   ]
  },
  {
   "cell_type": "code",
   "execution_count": 31,
   "metadata": {},
   "outputs": [],
   "source": [
    "registros_categoria = data_concat.groupby('categoría').size()"
   ]
  },
  {
   "cell_type": "code",
   "execution_count": 32,
   "metadata": {},
   "outputs": [
    {
     "name": "stdout",
     "output_type": "stream",
     "text": [
      "categoría\n",
      "Bibliotecas Populares                 2017\n",
      "Espacios de Exhibición Patrimonial    1182\n",
      "Salas de cine                          329\n",
      "dtype: int64\n"
     ]
    }
   ],
   "source": [
    "print(registros_categoria)"
   ]
  },
  {
   "cell_type": "code",
   "execution_count": 35,
   "metadata": {},
   "outputs": [
    {
     "data": {
      "text/plain": [
       "Text(0, 0.5, 'Proporción de datos reportados')"
      ]
     },
     "execution_count": 35,
     "metadata": {},
     "output_type": "execute_result"
    },
    {
     "data": {
      "image/png": "[encoded data removed]",
      "text/plain": [
       "<Figure size 432x288 with 1 Axes>"
      ]
     },
     "metadata": {
      "needs_background": "light"
     },
     "output_type": "display_data"
    }
   ],
   "source": [
    "ax=data_concat[\"categoría\"].value_counts(normalize=True).plot(kind=\"bar\")\n",
    "plt.legend()\n",
    "ax.set_title('Datos por Categoría',fontsize=20)\n",
    "ax.set_xlabel('Categoría',fontsize=15)\n",
    "ax.set_ylabel('Proporción de datos reportados',fontsize=15)"
   ]
  },
  {
   "cell_type": "code",
   "execution_count": 36,
   "metadata": {},
   "outputs": [],
   "source": [
    "registros_fuente = data_concat.groupby('fuente').size()"
   ]
  },
  {
   "cell_type": "code",
   "execution_count": 37,
   "metadata": {},
   "outputs": [
    {
     "name": "stdout",
     "output_type": "stream",
     "text": [
      "fuente\n",
      "CNMLH - Enlace SInCA                                                      1\n",
      "CNMLH - Ente Cultural de Tucumán                                          1\n",
      "CONABIP                                                                2010\n",
      "DNPyM                                                                  1048\n",
      "Dirección Provincial de Patrimonio Cultural - Enlace SInCA                1\n",
      "Dirección de Cultura de Villa Allende                                     2\n",
      "Dirección de Cultura y de Educación de la Municipalidad de Unquillo       1\n",
      "Gob. Pcia.                                                                1\n",
      "Gobierno de la Provincia                                                 14\n",
      "Gobierno de la Provincia de Chubut / SInCA 2013                           3\n",
      "Gobierno de la Provincia de Jujuy                                         4\n",
      "Gobierno de la Provincia de La Pampa                                      1\n",
      "Gobierno de la Provincia de La Rioja                                      1\n",
      "Gobierno de la Provincia de Mendoza                                       4\n",
      "Gobierno de la Provincia de Neuquén                                       1\n",
      "Gobierno de la Provincia de Salta                                         1\n",
      "Gobierno de la Provincia de San Juan                                      3\n",
      "Gobierno de la provincia                                                  1\n",
      "INCAA / SInCA                                                           329\n",
      "Municipalidad de Puerto Madryn                                            2\n",
      "Municipalidad de Río Gallegos - Red de Ciudades Creativas                 4\n",
      "Municipalidad de Santa Fe - Red de Ciudades Creativas                    37\n",
      "RCC                                                                      10\n",
      "RCC- Córdoba                                                             31\n",
      "Red de Espacios Culturales Vicente López                                  4\n",
      "SInCA                                                                     1\n",
      "Secretaria de Cultura Provincial                                          6\n",
      "Secretaria de Cultura del Municipio de Esteban Echeverría                 1\n",
      "UNLA                                                                      1\n",
      "Área Gestión Cultural de la Municipalidad de Colonia Caroya               4\n",
      "dtype: int64\n"
     ]
    }
   ],
   "source": [
    "print(registros_fuente)"
   ]
  },
  {
   "cell_type": "code",
   "execution_count": 39,
   "metadata": {},
   "outputs": [
    {
     "data": {
      "text/plain": [
       "Text(0, 0.5, 'Proporción de datos reportados')"
      ]
     },
     "execution_count": 39,
     "metadata": {},
     "output_type": "execute_result"
    },
    {
     "data": {
      "image/png": "[encoded data removed]",
      "text/plain": [
       "<Figure size 432x288 with 1 Axes>"
      ]
     },
     "metadata": {
      "needs_background": "light"
     },
     "output_type": "display_data"
    }
   ],
   "source": [
    "ax=data_concat[\"fuente\"].value_counts(normalize=True)[:3].plot(kind=\"bar\")\n",
    "plt.legend()\n",
    "ax.set_title('Datos por Fuente',fontsize=20)\n",
    "ax.set_xlabel('Fuente',fontsize=15)\n",
    "ax.set_ylabel('Proporción de datos reportados',fontsize=15)"
   ]
  },
  {
   "cell_type": "code",
   "execution_count": 54,
   "metadata": {},
   "outputs": [
    {
     "data": {
      "text/plain": [
       "'Cantidad de registros por categoria y provincia:'"
      ]
     },
     "execution_count": 54,
     "metadata": {},
     "output_type": "execute_result"
    }
   ],
   "source": [
    "\"\"\"Cantidad de registros por categoria y provincia:\"\"\""
   ]
  },
  {
   "cell_type": "code",
   "execution_count": 40,
   "metadata": {},
   "outputs": [],
   "source": [
    "registros_categoria_provincia = data_concat.groupby(['categoría', 'provincia']).size()"
   ]
  },
  {
   "cell_type": "code",
   "execution_count": 41,
   "metadata": {},
   "outputs": [
    {
     "name": "stdout",
     "output_type": "stream",
     "text": [
      "categoría              provincia                      \n",
      "Bibliotecas Populares  Buenos Aires                       543\n",
      "                       Catamarca                           38\n",
      "                       Chaco                               70\n",
      "                       Chubut                              48\n",
      "                       Ciudad Autónoma de Buenos Aires     43\n",
      "                                                         ... \n",
      "Salas de cine          Santa Cruz                           5\n",
      "                       Santa Fe                            23\n",
      "                       Santiago del Estero                  5\n",
      "                       Tierra del Fuego                     3\n",
      "                       Tucumán                              8\n",
      "Length: 73, dtype: int64\n"
     ]
    }
   ],
   "source": [
    "print(registros_categoria_provincia)"
   ]
  },
  {
   "cell_type": "code",
   "execution_count": 42,
   "metadata": {},
   "outputs": [
    {
     "data": {
      "text/html": [
       "<div>\n",
       "<style scoped>\n",
       "    .dataframe tbody tr th:only-of-type {\n",
       "        vertical-align: middle;\n",
       "    }\n",
       "\n",
       "    .dataframe tbody tr th {\n",
       "        vertical-align: top;\n",
       "    }\n",
       "\n",
       "    .dataframe thead th {\n",
       "        text-align: right;\n",
       "    }\n",
       "</style>\n",
       "<table border=\"1\" class=\"dataframe\">\n",
       "  <thead>\n",
       "    <tr style=\"text-align: right;\">\n",
       "      <th></th>\n",
       "      <th>categoría</th>\n",
       "      <th>fuente</th>\n",
       "    </tr>\n",
       "    <tr>\n",
       "      <th>provincia</th>\n",
       "      <th></th>\n",
       "      <th></th>\n",
       "    </tr>\n",
       "  </thead>\n",
       "  <tbody>\n",
       "    <tr>\n",
       "      <th>Buenos Aires</th>\n",
       "      <td>Salas de cineSalas de cineSalas de cineSalas d...</td>\n",
       "      <td>INCAA / SInCAINCAA / SInCAINCAA / SInCAINCAA /...</td>\n",
       "    </tr>\n",
       "    <tr>\n",
       "      <th>Ciudad Autónoma de Buenos Aires</th>\n",
       "      <td>Salas de cineSalas de cineSalas de cineSalas d...</td>\n",
       "      <td>INCAA / SInCAINCAA / SInCAINCAA / SInCAINCAA /...</td>\n",
       "    </tr>\n",
       "    <tr>\n",
       "      <th>Córdoba</th>\n",
       "      <td>Salas de cineSalas de cineSalas de cineSalas d...</td>\n",
       "      <td>INCAA / SInCAINCAA / SInCAINCAA / SInCAINCAA /...</td>\n",
       "    </tr>\n",
       "    <tr>\n",
       "      <th>Santa Fe</th>\n",
       "      <td>Salas de cineSalas de cineSalas de cineSalas d...</td>\n",
       "      <td>INCAA / SInCAINCAA / SInCAINCAA / SInCAINCAA /...</td>\n",
       "    </tr>\n",
       "    <tr>\n",
       "      <th>Mendoza</th>\n",
       "      <td>Salas de cineSalas de cineSalas de cineSalas d...</td>\n",
       "      <td>INCAA / SInCAINCAA / SInCAINCAA / SInCAINCAA /...</td>\n",
       "    </tr>\n",
       "    <tr>\n",
       "      <th>Entre Ríos</th>\n",
       "      <td>Salas de cineSalas de cineSalas de cineSalas d...</td>\n",
       "      <td>INCAA / SInCAINCAA / SInCAINCAA / SInCAINCAA /...</td>\n",
       "    </tr>\n",
       "    <tr>\n",
       "      <th>Salta</th>\n",
       "      <td>Salas de cineSalas de cineSalas de cineSalas d...</td>\n",
       "      <td>INCAA / SInCAINCAA / SInCAINCAA / SInCAINCAA /...</td>\n",
       "    </tr>\n",
       "    <tr>\n",
       "      <th>Chubut</th>\n",
       "      <td>Salas de cineSalas de cineSalas de cineSalas d...</td>\n",
       "      <td>INCAA / SInCAINCAA / SInCAINCAA / SInCAINCAA /...</td>\n",
       "    </tr>\n",
       "    <tr>\n",
       "      <th>Tucumán</th>\n",
       "      <td>Salas de cineSalas de cineSalas de cineSalas d...</td>\n",
       "      <td>INCAA / SInCAINCAA / SInCAINCAA / SInCAINCAA /...</td>\n",
       "    </tr>\n",
       "    <tr>\n",
       "      <th>Corrientes</th>\n",
       "      <td>Salas de cineSalas de cineSalas de cineSalas d...</td>\n",
       "      <td>INCAA / SInCAINCAA / SInCAINCAA / SInCAINCAA /...</td>\n",
       "    </tr>\n",
       "    <tr>\n",
       "      <th>Río Negro</th>\n",
       "      <td>Salas de cineSalas de cineSalas de cineSalas d...</td>\n",
       "      <td>INCAA / SInCAINCAA / SInCAINCAA / SInCAINCAA /...</td>\n",
       "    </tr>\n",
       "    <tr>\n",
       "      <th>Misiones</th>\n",
       "      <td>Salas de cineSalas de cineSalas de cineSalas d...</td>\n",
       "      <td>INCAA / SInCAINCAA / SInCAINCAA / SInCAINCAA /...</td>\n",
       "    </tr>\n",
       "    <tr>\n",
       "      <th>San Juan</th>\n",
       "      <td>Salas de cineSalas de cineSalas de cineSalas d...</td>\n",
       "      <td>INCAA / SInCAINCAA / SInCAINCAA / SInCAINCAA /...</td>\n",
       "    </tr>\n",
       "    <tr>\n",
       "      <th>La Pampa</th>\n",
       "      <td>Salas de cineSalas de cineSalas de cineSalas d...</td>\n",
       "      <td>INCAA / SInCAINCAA / SInCAINCAA / SInCAINCAA /...</td>\n",
       "    </tr>\n",
       "    <tr>\n",
       "      <th>Santa Cruz</th>\n",
       "      <td>Salas de cineSalas de cineSalas de cineSalas d...</td>\n",
       "      <td>INCAA / SInCAINCAA / SInCAINCAA / SInCAINCAA /...</td>\n",
       "    </tr>\n",
       "    <tr>\n",
       "      <th>La Rioja</th>\n",
       "      <td>Salas de cineSalas de cineSalas de cineSalas d...</td>\n",
       "      <td>INCAA / SInCAINCAA / SInCAINCAA / SInCAINCAA /...</td>\n",
       "    </tr>\n",
       "    <tr>\n",
       "      <th>Santiago del Estero</th>\n",
       "      <td>Salas de cineSalas de cineSalas de cineSalas d...</td>\n",
       "      <td>INCAA / SInCAINCAA / SInCAINCAA / SInCAINCAA /...</td>\n",
       "    </tr>\n",
       "    <tr>\n",
       "      <th>Neuquén</th>\n",
       "      <td>Salas de cineSalas de cineSalas de cineSalas d...</td>\n",
       "      <td>INCAA / SInCAINCAA / SInCAINCAA / SInCAINCAA /...</td>\n",
       "    </tr>\n",
       "    <tr>\n",
       "      <th>Catamarca</th>\n",
       "      <td>Salas de cineSalas de cineSalas de cineSalas d...</td>\n",
       "      <td>INCAA / SInCAINCAA / SInCAINCAA / SInCAINCAA /...</td>\n",
       "    </tr>\n",
       "    <tr>\n",
       "      <th>Jujuy</th>\n",
       "      <td>Salas de cineSalas de cineSalas de cineSalas d...</td>\n",
       "      <td>INCAA / SInCAINCAA / SInCAINCAA / SInCAINCAA /...</td>\n",
       "    </tr>\n",
       "    <tr>\n",
       "      <th>San Luis</th>\n",
       "      <td>Salas de cineSalas de cineSalas de cineSalas d...</td>\n",
       "      <td>INCAA / SInCAINCAA / SInCAINCAA / SInCAINCAA /...</td>\n",
       "    </tr>\n",
       "    <tr>\n",
       "      <th>Chaco</th>\n",
       "      <td>Salas de cineSalas de cineSalas de cineSalas d...</td>\n",
       "      <td>INCAA / SInCAINCAA / SInCAINCAA / SInCAINCAA /...</td>\n",
       "    </tr>\n",
       "    <tr>\n",
       "      <th>Tierra del Fuego</th>\n",
       "      <td>Salas de cineSalas de cineSalas de cineBibliot...</td>\n",
       "      <td>INCAA / SInCAINCAA / SInCAINCAA / SInCACONABIP...</td>\n",
       "    </tr>\n",
       "    <tr>\n",
       "      <th>Formosa</th>\n",
       "      <td>Salas de cineSalas de cineBibliotecas Populare...</td>\n",
       "      <td>INCAA / SInCAINCAA / SInCACONABIPCONABIPCONABI...</td>\n",
       "    </tr>\n",
       "    <tr>\n",
       "      <th>Neuquén</th>\n",
       "      <td>Espacios de Exhibición PatrimonialEspacios de ...</td>\n",
       "      <td>DNPyMDNPyMDNPyMDNPyMDNPyMDNPyMDNPyMDNPyMDNPyMD...</td>\n",
       "    </tr>\n",
       "    <tr>\n",
       "      <th>Tierra del Fuego, Antártida e Islas del Atlántico Sur</th>\n",
       "      <td>Espacios de Exhibición PatrimonialEspacios de ...</td>\n",
       "      <td>DNPyMDNPyMDNPyMDNPyMDNPyMDNPyMDNPyMDNPyMDNPyMD...</td>\n",
       "    </tr>\n",
       "    <tr>\n",
       "      <th>Santa Fé</th>\n",
       "      <td>Bibliotecas Populares</td>\n",
       "      <td>CONABIP</td>\n",
       "    </tr>\n",
       "  </tbody>\n",
       "</table>\n",
       "</div>"
      ],
      "text/plain": [
       "                                                                                            categoría  \\\n",
       "provincia                                                                                               \n",
       "Buenos Aires                                        Salas de cineSalas de cineSalas de cineSalas d...   \n",
       "Ciudad Autónoma de Buenos Aires                     Salas de cineSalas de cineSalas de cineSalas d...   \n",
       "Córdoba                                             Salas de cineSalas de cineSalas de cineSalas d...   \n",
       "Santa Fe                                            Salas de cineSalas de cineSalas de cineSalas d...   \n",
       "Mendoza                                             Salas de cineSalas de cineSalas de cineSalas d...   \n",
       "Entre Ríos                                          Salas de cineSalas de cineSalas de cineSalas d...   \n",
       "Salta                                               Salas de cineSalas de cineSalas de cineSalas d...   \n",
       "Chubut                                              Salas de cineSalas de cineSalas de cineSalas d...   \n",
       "Tucumán                                             Salas de cineSalas de cineSalas de cineSalas d...   \n",
       "Corrientes                                          Salas de cineSalas de cineSalas de cineSalas d...   \n",
       "Río Negro                                           Salas de cineSalas de cineSalas de cineSalas d...   \n",
       "Misiones                                            Salas de cineSalas de cineSalas de cineSalas d...   \n",
       "San Juan                                            Salas de cineSalas de cineSalas de cineSalas d...   \n",
       "La Pampa                                            Salas de cineSalas de cineSalas de cineSalas d...   \n",
       "Santa Cruz                                          Salas de cineSalas de cineSalas de cineSalas d...   \n",
       "La Rioja                                            Salas de cineSalas de cineSalas de cineSalas d...   \n",
       "Santiago del Estero                                 Salas de cineSalas de cineSalas de cineSalas d...   \n",
       "Neuquén                                             Salas de cineSalas de cineSalas de cineSalas d...   \n",
       "Catamarca                                           Salas de cineSalas de cineSalas de cineSalas d...   \n",
       "Jujuy                                               Salas de cineSalas de cineSalas de cineSalas d...   \n",
       "San Luis                                            Salas de cineSalas de cineSalas de cineSalas d...   \n",
       "Chaco                                               Salas de cineSalas de cineSalas de cineSalas d...   \n",
       "Tierra del Fuego                                    Salas de cineSalas de cineSalas de cineBibliot...   \n",
       "Formosa                                             Salas de cineSalas de cineBibliotecas Populare...   \n",
       "Neuquén                                             Espacios de Exhibición PatrimonialEspacios de ...   \n",
       "Tierra del Fuego, Antártida e Islas del Atlánti...  Espacios de Exhibición PatrimonialEspacios de ...   \n",
       "Santa Fé                                                                        Bibliotecas Populares   \n",
       "\n",
       "                                                                                               fuente  \n",
       "provincia                                                                                              \n",
       "Buenos Aires                                        INCAA / SInCAINCAA / SInCAINCAA / SInCAINCAA /...  \n",
       "Ciudad Autónoma de Buenos Aires                     INCAA / SInCAINCAA / SInCAINCAA / SInCAINCAA /...  \n",
       "Córdoba                                             INCAA / SInCAINCAA / SInCAINCAA / SInCAINCAA /...  \n",
       "Santa Fe                                            INCAA / SInCAINCAA / SInCAINCAA / SInCAINCAA /...  \n",
       "Mendoza                                             INCAA / SInCAINCAA / SInCAINCAA / SInCAINCAA /...  \n",
       "Entre Ríos                                          INCAA / SInCAINCAA / SInCAINCAA / SInCAINCAA /...  \n",
       "Salta                                               INCAA / SInCAINCAA / SInCAINCAA / SInCAINCAA /...  \n",
       "Chubut                                              INCAA / SInCAINCAA / SInCAINCAA / SInCAINCAA /...  \n",
       "Tucumán                                             INCAA / SInCAINCAA / SInCAINCAA / SInCAINCAA /...  \n",
       "Corrientes                                          INCAA / SInCAINCAA / SInCAINCAA / SInCAINCAA /...  \n",
       "Río Negro                                           INCAA / SInCAINCAA / SInCAINCAA / SInCAINCAA /...  \n",
       "Misiones                                            INCAA / SInCAINCAA / SInCAINCAA / SInCAINCAA /...  \n",
       "San Juan                                            INCAA / SInCAINCAA / SInCAINCAA / SInCAINCAA /...  \n",
       "La Pampa                                            INCAA / SInCAINCAA / SInCAINCAA / SInCAINCAA /...  \n",
       "Santa Cruz                                          INCAA / SInCAINCAA / SInCAINCAA / SInCAINCAA /...  \n",
       "La Rioja                                            INCAA / SInCAINCAA / SInCAINCAA / SInCAINCAA /...  \n",
       "Santiago del Estero                                 INCAA / SInCAINCAA / SInCAINCAA / SInCAINCAA /...  \n",
       "Neuquén                                             INCAA / SInCAINCAA / SInCAINCAA / SInCAINCAA /...  \n",
       "Catamarca                                           INCAA / SInCAINCAA / SInCAINCAA / SInCAINCAA /...  \n",
       "Jujuy                                               INCAA / SInCAINCAA / SInCAINCAA / SInCAINCAA /...  \n",
       "San Luis                                            INCAA / SInCAINCAA / SInCAINCAA / SInCAINCAA /...  \n",
       "Chaco                                               INCAA / SInCAINCAA / SInCAINCAA / SInCAINCAA /...  \n",
       "Tierra del Fuego                                    INCAA / SInCAINCAA / SInCAINCAA / SInCACONABIP...  \n",
       "Formosa                                             INCAA / SInCAINCAA / SInCACONABIPCONABIPCONABI...  \n",
       "Neuquén                                             DNPyMDNPyMDNPyMDNPyMDNPyMDNPyMDNPyMDNPyMDNPyMD...  \n",
       "Tierra del Fuego, Antártida e Islas del Atlánti...  DNPyMDNPyMDNPyMDNPyMDNPyMDNPyMDNPyMDNPyMDNPyMD...  \n",
       "Santa Fé                                                                                      CONABIP  "
      ]
     },
     "execution_count": 42,
     "metadata": {},
     "output_type": "execute_result"
    }
   ],
   "source": [
    "pd.pivot_table(data_concat,index='provincia',aggfunc='sum',values=['categoría','fuente']).sort_values(ascending=False,by='fuente')\n"
   ]
  },
  {
   "cell_type": "code",
   "execution_count": 55,
   "metadata": {},
   "outputs": [
    {
     "data": {
      "text/plain": [
       "'Análisis de Base de datos de cine según la consigna:'"
      ]
     },
     "execution_count": 55,
     "metadata": {},
     "output_type": "execute_result"
    }
   ],
   "source": [
    "\"\"\"Análisis de Base de datos de cine según la consigna:\"\"\""
   ]
  },
  {
   "cell_type": "code",
   "execution_count": 56,
   "metadata": {},
   "outputs": [
    {
     "data": {
      "text/plain": [
       "si    52\n",
       "SI    11\n",
       "0      1\n",
       "Name: espacio_incaa, dtype: int64"
      ]
     },
     "execution_count": 56,
     "metadata": {},
     "output_type": "execute_result"
    }
   ],
   "source": [
    "data_cines['espacio_incaa'].value_counts()"
   ]
  },
  {
   "cell_type": "code",
   "execution_count": 57,
   "metadata": {},
   "outputs": [],
   "source": [
    "data_cines['espacio_incaa']= data_cines['espacio_incaa'].fillna(0)\n"
   ]
  },
  {
   "cell_type": "code",
   "execution_count": 58,
   "metadata": {},
   "outputs": [
    {
     "data": {
      "text/plain": [
       "0     265\n",
       "si     52\n",
       "SI     11\n",
       "0       1\n",
       "Name: espacio_incaa, dtype: int64"
      ]
     },
     "execution_count": 58,
     "metadata": {},
     "output_type": "execute_result"
    }
   ],
   "source": [
    "data_cines['espacio_incaa'].value_counts()"
   ]
  },
  {
   "cell_type": "code",
   "execution_count": 59,
   "metadata": {},
   "outputs": [],
   "source": [
    "data_cines['espacio_incaa'] = data_cines['espacio_incaa'].replace('si',1)"
   ]
  },
  {
   "cell_type": "code",
   "execution_count": 60,
   "metadata": {},
   "outputs": [],
   "source": [
    "data_cines['espacio_incaa'] = data_cines['espacio_incaa'].replace('SI',1)"
   ]
  },
  {
   "cell_type": "code",
   "execution_count": 61,
   "metadata": {},
   "outputs": [
    {
     "data": {
      "text/plain": [
       "0    265\n",
       "1     63\n",
       "0      1\n",
       "Name: espacio_incaa, dtype: int64"
      ]
     },
     "execution_count": 61,
     "metadata": {},
     "output_type": "execute_result"
    }
   ],
   "source": [
    "data_cines['espacio_incaa'].value_counts()"
   ]
  },
  {
   "cell_type": "code",
   "execution_count": 62,
   "metadata": {},
   "outputs": [],
   "source": [
    "data_cines['espacio_incaa'] = data_cines['espacio_incaa'].astype(int)"
   ]
  },
  {
   "cell_type": "code",
   "execution_count": 63,
   "metadata": {},
   "outputs": [
    {
     "data": {
      "text/html": [
       "<div>\n",
       "<style scoped>\n",
       "    .dataframe tbody tr th:only-of-type {\n",
       "        vertical-align: middle;\n",
       "    }\n",
       "\n",
       "    .dataframe tbody tr th {\n",
       "        vertical-align: top;\n",
       "    }\n",
       "\n",
       "    .dataframe thead th {\n",
       "        text-align: right;\n",
       "    }\n",
       "</style>\n",
       "<table border=\"1\" class=\"dataframe\">\n",
       "  <thead>\n",
       "    <tr style=\"text-align: right;\">\n",
       "      <th></th>\n",
       "      <th>butacas</th>\n",
       "      <th>espacio_incaa</th>\n",
       "      <th>pantallas</th>\n",
       "    </tr>\n",
       "    <tr>\n",
       "      <th>provincia</th>\n",
       "      <th></th>\n",
       "      <th></th>\n",
       "      <th></th>\n",
       "    </tr>\n",
       "  </thead>\n",
       "  <tbody>\n",
       "    <tr>\n",
       "      <th>Buenos Aires</th>\n",
       "      <td>93112</td>\n",
       "      <td>20</td>\n",
       "      <td>358</td>\n",
       "    </tr>\n",
       "    <tr>\n",
       "      <th>Ciudad Autónoma de Buenos Aires</th>\n",
       "      <td>31386</td>\n",
       "      <td>3</td>\n",
       "      <td>153</td>\n",
       "    </tr>\n",
       "    <tr>\n",
       "      <th>Córdoba</th>\n",
       "      <td>20799</td>\n",
       "      <td>2</td>\n",
       "      <td>105</td>\n",
       "    </tr>\n",
       "    <tr>\n",
       "      <th>Santa Fe</th>\n",
       "      <td>20131</td>\n",
       "      <td>3</td>\n",
       "      <td>79</td>\n",
       "    </tr>\n",
       "    <tr>\n",
       "      <th>Mendoza</th>\n",
       "      <td>11116</td>\n",
       "      <td>2</td>\n",
       "      <td>47</td>\n",
       "    </tr>\n",
       "    <tr>\n",
       "      <th>Tucumán</th>\n",
       "      <td>5161</td>\n",
       "      <td>2</td>\n",
       "      <td>24</td>\n",
       "    </tr>\n",
       "    <tr>\n",
       "      <th>Salta</th>\n",
       "      <td>4665</td>\n",
       "      <td>2</td>\n",
       "      <td>23</td>\n",
       "    </tr>\n",
       "    <tr>\n",
       "      <th>San Juan</th>\n",
       "      <td>4617</td>\n",
       "      <td>2</td>\n",
       "      <td>22</td>\n",
       "    </tr>\n",
       "    <tr>\n",
       "      <th>Corrientes</th>\n",
       "      <td>3370</td>\n",
       "      <td>1</td>\n",
       "      <td>17</td>\n",
       "    </tr>\n",
       "    <tr>\n",
       "      <th>Entre Ríos</th>\n",
       "      <td>4086</td>\n",
       "      <td>2</td>\n",
       "      <td>17</td>\n",
       "    </tr>\n",
       "    <tr>\n",
       "      <th>Chaco</th>\n",
       "      <td>2469</td>\n",
       "      <td>1</td>\n",
       "      <td>14</td>\n",
       "    </tr>\n",
       "    <tr>\n",
       "      <th>Catamarca</th>\n",
       "      <td>3200</td>\n",
       "      <td>1</td>\n",
       "      <td>12</td>\n",
       "    </tr>\n",
       "    <tr>\n",
       "      <th>San Luis</th>\n",
       "      <td>2601</td>\n",
       "      <td>0</td>\n",
       "      <td>12</td>\n",
       "    </tr>\n",
       "    <tr>\n",
       "      <th>Neuquén</th>\n",
       "      <td>3959</td>\n",
       "      <td>3</td>\n",
       "      <td>12</td>\n",
       "    </tr>\n",
       "    <tr>\n",
       "      <th>Santiago del Estero</th>\n",
       "      <td>2928</td>\n",
       "      <td>1</td>\n",
       "      <td>11</td>\n",
       "    </tr>\n",
       "    <tr>\n",
       "      <th>La Rioja</th>\n",
       "      <td>1477</td>\n",
       "      <td>1</td>\n",
       "      <td>10</td>\n",
       "    </tr>\n",
       "    <tr>\n",
       "      <th>Misiones</th>\n",
       "      <td>2177</td>\n",
       "      <td>2</td>\n",
       "      <td>10</td>\n",
       "    </tr>\n",
       "    <tr>\n",
       "      <th>Chubut</th>\n",
       "      <td>2682</td>\n",
       "      <td>4</td>\n",
       "      <td>10</td>\n",
       "    </tr>\n",
       "    <tr>\n",
       "      <th>Río Negro</th>\n",
       "      <td>2474</td>\n",
       "      <td>4</td>\n",
       "      <td>10</td>\n",
       "    </tr>\n",
       "    <tr>\n",
       "      <th>Santa Cruz</th>\n",
       "      <td>1256</td>\n",
       "      <td>2</td>\n",
       "      <td>7</td>\n",
       "    </tr>\n",
       "    <tr>\n",
       "      <th>La Pampa</th>\n",
       "      <td>2071</td>\n",
       "      <td>2</td>\n",
       "      <td>6</td>\n",
       "    </tr>\n",
       "    <tr>\n",
       "      <th>Tierra del Fuego</th>\n",
       "      <td>1445</td>\n",
       "      <td>0</td>\n",
       "      <td>6</td>\n",
       "    </tr>\n",
       "    <tr>\n",
       "      <th>Jujuy</th>\n",
       "      <td>2277</td>\n",
       "      <td>2</td>\n",
       "      <td>5</td>\n",
       "    </tr>\n",
       "    <tr>\n",
       "      <th>Formosa</th>\n",
       "      <td>1184</td>\n",
       "      <td>1</td>\n",
       "      <td>4</td>\n",
       "    </tr>\n",
       "  </tbody>\n",
       "</table>\n",
       "</div>"
      ],
      "text/plain": [
       "                                 butacas  espacio_incaa  pantallas\n",
       "provincia                                                         \n",
       "Buenos Aires                       93112             20        358\n",
       "Ciudad Autónoma de Buenos Aires    31386              3        153\n",
       "Córdoba                            20799              2        105\n",
       "Santa Fe                           20131              3         79\n",
       "Mendoza                            11116              2         47\n",
       "Tucumán                             5161              2         24\n",
       "Salta                               4665              2         23\n",
       "San Juan                            4617              2         22\n",
       "Corrientes                          3370              1         17\n",
       "Entre Ríos                          4086              2         17\n",
       "Chaco                               2469              1         14\n",
       "Catamarca                           3200              1         12\n",
       "San Luis                            2601              0         12\n",
       "Neuquén                             3959              3         12\n",
       "Santiago del Estero                 2928              1         11\n",
       "La Rioja                            1477              1         10\n",
       "Misiones                            2177              2         10\n",
       "Chubut                              2682              4         10\n",
       "Río Negro                           2474              4         10\n",
       "Santa Cruz                          1256              2          7\n",
       "La Pampa                            2071              2          6\n",
       "Tierra del Fuego                    1445              0          6\n",
       "Jujuy                               2277              2          5\n",
       "Formosa                             1184              1          4"
      ]
     },
     "execution_count": 63,
     "metadata": {},
     "output_type": "execute_result"
    }
   ],
   "source": [
    "pd.pivot_table(data_cines,index='provincia',aggfunc='sum',values=['pantallas','butacas','espacio_incaa']).sort_values(ascending=False,by='pantallas')\n"
   ]
  },
  {
   "cell_type": "code",
   "execution_count": 64,
   "metadata": {},
   "outputs": [
    {
     "data": {
      "text/plain": [
       "Buenos Aires                       0.322188\n",
       "Ciudad Autónoma de Buenos Aires    0.106383\n",
       "Córdoba                            0.106383\n",
       "Santa Fe                           0.069909\n",
       "Mendoza                            0.048632\n",
       "Name: provincia, dtype: float64"
      ]
     },
     "execution_count": 64,
     "metadata": {},
     "output_type": "execute_result"
    }
   ],
   "source": [
    "data_cines[\"provincia\"].value_counts(normalize=True)[:5]  "
   ]
  },
  {
   "cell_type": "code",
   "execution_count": null,
   "metadata": {},
   "outputs": [],
   "source": []
  }
 ],
 "metadata": {
  "kernelspec": {
   "display_name": "Python 3",
   "language": "python",
   "name": "python3"
  },
  "language_info": {
   "codemirror_mode": {
    "name": "ipython",
    "version": 3
   },
   "file_extension": ".py",
   "mimetype": "text/x-python",
   "name": "python",
   "nbconvert_exporter": "python",
   "pygments_lexer": "ipython3",
   "version": "3.8.5"
  }
 },
 "nbformat": 4,
 "nbformat_minor": 4
}
